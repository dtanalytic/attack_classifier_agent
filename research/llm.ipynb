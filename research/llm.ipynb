{
 "cells": [
  {
   "cell_type": "code",
   "execution_count": 1,
   "id": "4f82879f-107c-4df9-b501-f8f890bee669",
   "metadata": {
    "tags": []
   },
   "outputs": [],
   "source": [
    "%load_ext autoreload\n",
    "%autoreload 2"
   ]
  },
  {
   "cell_type": "raw",
   "id": "10f2faab-60f3-4a8e-87ec-7dd6d14ff052",
   "metadata": {
    "tags": []
   },
   "source": [
    "import sys\n",
    "!{sys.executable} -m pip install faiss-cpu"
   ]
  },
  {
   "cell_type": "code",
   "execution_count": 2,
   "id": "10ceaa46-1bae-4586-aa4c-c66a361613fb",
   "metadata": {
    "tags": []
   },
   "outputs": [],
   "source": [
    "import os\n",
    "os.chdir('C://work/dev/python/progs/texts/llm_agent')"
   ]
  },
  {
   "cell_type": "code",
   "execution_count": null,
   "id": "a038e784-377a-47c2-a624-b07e90d26158",
   "metadata": {},
   "outputs": [],
   "source": []
  },
  {
   "cell_type": "raw",
   "id": "35477099-b53e-4ddb-8e2d-cbd1492d38a2",
   "metadata": {},
   "source": []
  },
  {
   "cell_type": "markdown",
   "id": "9dd9cc2f-bc73-4b99-8b5a-591386f77abb",
   "metadata": {},
   "source": [
    "# Формируем rag запрос"
   ]
  },
  {
   "cell_type": "code",
   "execution_count": 7,
   "id": "5de94f29-e56b-4d9b-b608-b1e7ad006a3b",
   "metadata": {},
   "outputs": [],
   "source": [
    "from src.funcs import get_rag_db, form_rag_query, ChatLLM, ask_nomemory\n",
    "\n",
    "from ruamel.yaml import YAML\n",
    "conf = YAML().load(open('params.yaml'))"
   ]
  },
  {
   "cell_type": "code",
   "execution_count": 4,
   "id": "08f9bc67-aa24-483e-999e-d3077a42e142",
   "metadata": {},
   "outputs": [
    {
     "name": "stderr",
     "output_type": "stream",
     "text": [
      "D:\\dev\\envs\\pytorch_env\\lib\\site-packages\\tqdm\\auto.py:21: TqdmWarning: IProgress not found. Please update jupyter and ipywidgets. See https://ipywidgets.readthedocs.io/en/stable/user_install.html\n",
      "  from .autonotebook import tqdm as notebook_tqdm\n"
     ]
    }
   ],
   "source": [
    "db = get_rag_db(conf)"
   ]
  },
  {
   "cell_type": "code",
   "execution_count": 5,
   "id": "fb57586c-1206-4fab-a9c1-78744d1ff600",
   "metadata": {},
   "outputs": [
    {
     "name": "stdout",
     "output_type": "stream",
     "text": [
      "Classify given query based on similar texts below, last sentence form like:Output: TTP CODE, example: OUTPUT: T1585:\n",
      "QUERY:\"Adversaries may manipulate accounts to maintain and/or elevate access to victim systems. Account manipulation may consist of any action that preserves or modifies adversary access to a compromised account, such as modifying credentials or permission groups.[1] These actions could also include account activity designed to subvert security policies, such as performing iterative password updates to bypass password duration policies and preserve the life of compromised credentials.\n",
      "\n",
      "In order to create or manipulate accounts, the adversary must already have sufficient permissions on systems or the domain. However, account manipulation may also lead to privilege escalation where modifications grant access to additional roles, permissions, or higher-privileged Valid Accounts.\",\n",
      "List of similar texts are below, among them may be texts with no malicious content, keep this in mind while classifying the given text:\n",
      "Contents:\"Adversaries may manipulate accounts to maintain and/or elevate access to victim systems. Account manipulation may consist of any action that preserves or modifies adversary access to a compromised account, such as modifying credentials or permission groups. These actions could also include account activity designed to subvert security policies, such as performing iterative password updates to bypass password duration policies and preserve the life of compromised credentials. \n",
      "\n",
      "In order to create or manipulate accounts, the adversary must already have sufficient permissions on systems or the domain. However, account manipulation may also lead to privilege escalation where modifications grant access to additional roles, permissions, or higher-privileged [Valid Accounts].\", Techniques - T1098, Tactics - persistence, privilege-escalation, MITRE root title - nan, MITRE url - https://attack.mitre.org/techniques/T1098\n",
      "Contents:\"[T1078], compromised administrative [T1078.001] accounts Execution\", Techniques - T1078, Tactics - defense-evasion, persistence, privilege-escalation, initial-access, MITRE root title - nan, MITRE url - nan\n",
      "Contents:\"An adversary may add additional local or domain groups to an adversary-controlled account to maintain persistent access to a system or domain.\n",
      "\n",
      "On Windows, accounts may use the `net localgroup` and `net group` commands to add existing users to local and domain groups. On Linux, adversaries may use the `usermod` command for the same purpose.\n",
      "\n",
      "For example, accounts may be added to the local administrators group on Windows devices to maintain elevated privileges. They may also be added to the Remote Desktop Users group, which allows them to leverage [Remote Desktop Protocol] to log into the endpoints in the future. On Linux, accounts may be added to the sudoers group, allowing them to persistently leverage [Sudo and Sudo Caching] for elevated privileges. \n",
      "\n",
      "In Windows environments, machine accounts may also be added to domain groups. This allows the local SYSTEM account to gain privileges on the domain.\", Techniques - T1098.007, Tactics - persistence, privilege-escalation, MITRE root title - Account Manipulation, MITRE url - https://attack.mitre.org/techniques/T1098/007\n"
     ]
    }
   ],
   "source": [
    "\n",
    "query = '''Adversaries may manipulate accounts to maintain and/or elevate access to victim systems. Account manipulation may consist of any action that preserves or modifies adversary access to a compromised account, such as modifying credentials or permission groups.[1] These actions could also include account activity designed to subvert security policies, such as performing iterative password updates to bypass password duration policies and preserve the life of compromised credentials.\n",
    "\n",
    "In order to create or manipulate accounts, the adversary must already have sufficient permissions on systems or the domain. However, account manipulation may also lead to privilege escalation where modifications grant access to additional roles, permissions, or higher-privileged Valid Accounts.'''\n",
    "\n",
    "rag_query = form_rag_query(query=query, rag_db=db, search_kwargs=eval(conf['storage']['search_kwargs']))\n",
    "\n",
    "print(rag_query)"
   ]
  },
  {
   "cell_type": "code",
   "execution_count": null,
   "id": "a186ff5c-1853-415d-95c9-d651e33a1bb9",
   "metadata": {},
   "outputs": [],
   "source": []
  },
  {
   "cell_type": "code",
   "execution_count": 7,
   "id": "7dcdc47e-f53c-4c3b-8d43-f5e94b577c68",
   "metadata": {},
   "outputs": [],
   "source": []
  },
  {
   "cell_type": "code",
   "execution_count": 16,
   "id": "70b6fc81-ce38-44bd-8fed-58d040a1b6c4",
   "metadata": {},
   "outputs": [
    {
     "data": {
      "text/plain": [
       "\"\\n\\nThe query discusses adversaries manipulating accounts to maintain or elevate access, which aligns with the technique T1098, specifically focusing on account manipulation for persistence and privilege escalation. The content does not involve defense-evasion or initial-access tactics, making T1098 the most accurate classification.\\n\\n**Step-by-Step Explanation:**\\n\\n1. **Identify Key Elements:** The query focuses on account manipulation for maintaining access and privilege escalation, including credential modification and permission changes.\\n\\n2. **Match with Similar Texts:** The first similar text exactly matches the query and is classified as T1098. The third text, T1098.007, is more specific about adding groups but doesn't cover all aspects of the query.\\n\\n3. **Exclude Other Techniques:** T1078 involves compromised administrative accounts and broader tactics, which don't fit the query's focus.\\n\\n**Answer:**\\n\\nThe query is best classified under T1098, as it directly addresses account manipulation for persistence and privilege escalation without involving other tactics.\\n\\n**OUTPUT: T1098**\""
      ]
     },
     "execution_count": 16,
     "metadata": {},
     "output_type": "execute_result"
    }
   ],
   "source": [
    "ask_nomemory(rag_query)"
   ]
  },
  {
   "cell_type": "code",
   "execution_count": 15,
   "id": "995519dd-8916-4c31-85d4-7163296d97f6",
   "metadata": {},
   "outputs": [
    {
     "data": {
      "text/plain": [
       "'\\n\\nThe query describes an adversary using legitimate tools to gather information about a target network, which aligns with the T1069 TTP code. This technique involves using such tools to map the network, identify key systems, and gather credentials during the initial stages of an attack.\\n\\n**OUTPUT: T1069: Adversaries may use legitimate tools to gather information about a target network, such as mapping the network, identifying key systems, and gathering credentials, as part of the initial stages of an attack.**'"
      ]
     },
     "execution_count": 15,
     "metadata": {},
     "output_type": "execute_result"
    }
   ],
   "source": [
    "ask_nomemory(rag_query[:rag_query.find('\\n')]+query)"
   ]
  },
  {
   "cell_type": "code",
   "execution_count": 14,
   "id": "4d8ad535-8c44-446d-8b1f-8d96147941ba",
   "metadata": {},
   "outputs": [
    {
     "data": {
      "text/plain": [
       "'Classify given query based on similar texts below, last sentence form like:Output: TTP CODE, example: OUTPUT: T1585:Adversaries may manipulate accounts to maintain and/or elevate access to victim systems. Account manipulation may consist of any action that preserves or modifies adversary access to a compromised account, such as modifying credentials or permission groups.[1] These actions could also include account activity designed to subvert security policies, such as performing iterative password updates to bypass password duration policies and preserve the life of compromised credentials.\\n\\nIn order to create or manipulate accounts, the adversary must already have sufficient permissions on systems or the domain. However, account manipulation may also lead to privilege escalation where modifications grant access to additional roles, permissions, or higher-privileged Valid Accounts.'"
      ]
     },
     "execution_count": 14,
     "metadata": {},
     "output_type": "execute_result"
    }
   ],
   "source": []
  },
  {
   "cell_type": "code",
   "execution_count": null,
   "id": "be0d48b8-4f44-4d52-bcca-ef766e86b7e4",
   "metadata": {},
   "outputs": [],
   "source": []
  },
  {
   "cell_type": "code",
   "execution_count": 45,
   "id": "60856a46-9625-45cf-80b5-9bc3e7312b37",
   "metadata": {},
   "outputs": [
    {
     "data": {
      "text/plain": [
       "'Небо кажется голубым из-за явления, называемого рассеянием Рэлея. Вот как это работает:\\n\\n1. **Солнечный свет** - Солнце излучает свет, который состоит из различных цветов, включая красный, оранжевый, желтый, зеленый, голубой и фиолетовый. Этот свет белый, потому что все эти цвета смешаны вместе.\\n\\n2. **Атмосфера Земли** - Когда солнечный свет достигает атмосферы Земли, он встречает молекулы воздуха и маленькие частицы, такие как пыль и водяные пары.\\n\\n3. **Рассеяние Рэлея** - Кратковолновые цвета (фиолетовый и голубой) рассеиваются сильнее, чем длинноволновые (красный и оранжевый), потому что они \"ударяются\" о молекулы воздуха чаще. Это происходит потому, что молекулы воздуха действуют как маленькие зеркала, отражающие свет в разные стороны.\\n\\n4. **Голубой цвет** - Хотя солнечный свет содержит все цвета радуги, голубой цвет рассеивается сильнее и в больших количествах достигает наших глаз, когда мы смотрим на небо. Это и создает голубой оттенок неба.\\n\\n5. **Время суток и погодные условия** - Цвет неба может меняться в зависимости от времени суток и погоды. Например, на рассвете или закате небо может быть окрашено в красные и оранжевые оттенки, потому что солнце находится под углом, и длинноволновые цвета рассеиваются сильнее.\\n\\nТаким образом, небо голубое из-за физического процесса рассеяния света в атмосфере Земли.'"
      ]
     },
     "execution_count": 45,
     "metadata": {},
     "output_type": "execute_result"
    }
   ],
   "source": [
    "ask_nomemory(\"почему небо голубое?\",  model_nm='Vikhr12BInstruct')"
   ]
  },
  {
   "cell_type": "code",
   "execution_count": null,
   "id": "4ed2ab1b-c482-44c6-9b3f-c41dbfce1a47",
   "metadata": {},
   "outputs": [],
   "source": []
  },
  {
   "cell_type": "markdown",
   "id": "57ca0337-fb2b-46f0-9945-0327e674e077",
   "metadata": {},
   "source": [
    "# through LLM"
   ]
  },
  {
   "cell_type": "code",
   "execution_count": 10,
   "id": "541c9d9c-7efc-4095-8a86-a673f8fb7efd",
   "metadata": {},
   "outputs": [],
   "source": [
    "llm = ChatLLM(model_nm=\"DSR1DistallQwen32B\", session_id=1, temperature=0, max_tokens=1000)\n",
    "llm.compile()\n",
    "llm.ask_memory('Как проверить благонадежность заемщика');"
   ]
  },
  {
   "cell_type": "code",
   "execution_count": 11,
   "id": "a6500b75-6e98-451f-acd2-1f0edeaf1a1f",
   "metadata": {},
   "outputs": [
    {
     "data": {
      "text/plain": [
       "[{'role': 'user', 'content': 'Как проверить благонадежность заемщика'},\n",
       " {'role': 'assistant',\n",
       "  'content': '\\n\\nПроверка благонадежности заемщика — это важный шаг при выдаче кредита или займа. Вот основные шаги, которые помогут определить, насколько заемщик надежен:\\n\\n### 1. **Проверка кредитной истории**\\n   - **Кредитный рейтинг ( credit score):** Заемщик должен иметь хороший кредитный рейтинг, который показывает их способность и готовность возвращать долги.\\n   - **История выплат:** Проверьте,是否有任何 просроченных платежей или不良 кредиты в прошлом.\\n   - **Количество кредитов:** Если у заемщика слишком много кредитов, это может быть признаком перекредитованности.\\n\\n### 2. **Оценка финансовой устойчивости**\\n   - **Доходы:** Убедитесь, что у заемщика стабильный доход, который позволяет ему возвращать долг.\\n   - **Расходы:** Проверьте,是否有 устойчивый финансовый поток и нет ли у заемщика слишком много расходов.\\n   - **Банковские выписки:** Запросите выписки со счетов заемщика за последние 3-6 месяцев, чтобы увидеть его финансовую ситуацию.\\n\\n### 3. **Проверка трудовой деятельности**\\n   - **Текущее место работы:** Убедитесь, что заемщик имеет стабильное место работы.\\n   - **Длитель长短 трудового стажа:** Длитель долгий стаж работы может быть признаком стабильности.\\n   - **Дополнительные источники дохода:** Если у заемщика есть дополнительные источники дохода, это может быть плюсом.\\n\\n### 4. **Оценка активов и пассивов**\\n   - **Активы:** Проверьте, какие активы у заемщика (например, недвижимость, транспортные средства, ценные бумаги и т.д.).\\n   - **Пассивы:** Убедитесь, что у заемщика нет слишком большого количества долгов или других обязательств.\\n\\n### 5. **Ссылки от предыдущих кредиторов**\\n   - **Рекомендации:** Запросите рекомендации от предыдущих кредиторов или банков, с которыми заемщик уже работал.\\n   - **История взаимоотношений:** Проверьте, как заемщик взаимодействовал с предыдущими кредиторами.\\n\\n### 6. **Проверка обеспечения (если применимо)**\\n   - **Коллатерал:** Если заемщик предоставляет обеспечение (например, недвижимость, автомобиль), убедитесь, что его стоимость соответствует сумме кредита.\\n   - **Оценка активов:** Проведите оценку обеспечения, чтобы убедиться, что оно действительно стоит заявленной суммы.\\n\\n### 7. **Проверка'},\n",
       " {'role': 'user', 'content': 'Сформулируй критерии через запятую'},\n",
       " {'role': 'assistant',\n",
       "  'content': '\\n\\nКритерии проверки благонадежности заемщика через запятую:\\n\\nКредитный рейтинг заемщика, История выплат по кредитам, Количество текущих кредитов, Уровень доходов, Финансовая устойчивость, Банковские выписки, Текущее место работы, Стаж работы, Дополнительные источники дохода, Активы заемщика, Пассивы заемщика, Рекомендации предыдущих кредиторов, История взаимоотношений с банками, Обеспечение (коллатерал), Оценка стоимости обеспечения.'}]"
      ]
     },
     "execution_count": 11,
     "metadata": {},
     "output_type": "execute_result"
    }
   ],
   "source": [
    "output = llm.ask_memory('Сформулируй критерии через запятую')\n",
    "output"
   ]
  },
  {
   "cell_type": "markdown",
   "id": "da1edd1b-ddfc-4ed0-b003-a6f7f8148ac6",
   "metadata": {},
   "source": [
    "# manual chat"
   ]
  },
  {
   "cell_type": "code",
   "execution_count": 40,
   "id": "813f7514-2b26-48cf-849a-3f9f66db3d11",
   "metadata": {},
   "outputs": [],
   "source": [
    "messages = [\n",
    "        {\n",
    "          \"role\": \"user\",\n",
    "          \"content\": \"почему небо голубое?\"\n",
    "        }\n",
    "      ]\n",
    "\n",
    "response = send_post_model(messages, temperature=0, max_tokens=1000)"
   ]
  },
  {
   "cell_type": "code",
   "execution_count": 41,
   "id": "0751243d-fb51-4578-90d4-eca84333a277",
   "metadata": {},
   "outputs": [
    {
     "data": {
      "text/plain": [
       "'\\n\\nНебо выглядит голубым из-за физического явления, называемого рассеянием Рэле. Когда солнечный свет, который состоит из различных цветов, проходит через земную атмосферу, молекулы и частицы воздуха рассеивают свет. Голубой свет, обладающий средней длиной волны, рассеивается интенсивнее, чем другие цвета, включая фиолетовый, который, несмотря на более короткую волну, воспринимается человеческим глазом менее интенсивно. Это приводит к преобладанию голубого цвета в небе. В сумерках, когда свет проходит через толстый слой атмосферы, голубой свет рассеивается больше, а оставшиеся цвета создают розовые и оранжевые оттенки заката.'"
      ]
     },
     "execution_count": 41,
     "metadata": {},
     "output_type": "execute_result"
    }
   ],
   "source": [
    "response['choices'][0]['message']['content']"
   ]
  },
  {
   "cell_type": "code",
   "execution_count": null,
   "id": "237cfc6a-cec5-4a86-8d52-f21e8d1ce0e8",
   "metadata": {},
   "outputs": [],
   "source": []
  },
  {
   "cell_type": "code",
   "execution_count": 8,
   "id": "50b9ea80-49e2-4602-a51a-beab586aee99",
   "metadata": {},
   "outputs": [],
   "source": [
    "messages.extend([{'role':'assistant', 'content':response['choices'][0]['message']['content']}, {\n",
    "          \"role\": \"user\",\n",
    "          \"content\": \"а что еще такое\"\n",
    "        }])\n",
    "response2 = chat_with_model(messages)"
   ]
  },
  {
   "cell_type": "markdown",
   "id": "afd1f13a-c969-4b39-8ec6-303d455b3465",
   "metadata": {},
   "source": [
    "# Links\n",
    "\n",
    "- [llm](https://github.com/langchain-ai/langchain/blob/master/libs/langchain/langchain/chains/llm.py)"
   ]
  },
  {
   "cell_type": "code",
   "execution_count": null,
   "id": "4452fde2-9923-4005-b3d6-db98510ee44e",
   "metadata": {},
   "outputs": [],
   "source": []
  }
 ],
 "metadata": {
  "kernelspec": {
   "display_name": "pytorch11.8_env",
   "language": "python",
   "name": "pytorch11.8_env"
  },
  "language_info": {
   "codemirror_mode": {
    "name": "ipython",
    "version": 3
   },
   "file_extension": ".py",
   "mimetype": "text/x-python",
   "name": "python",
   "nbconvert_exporter": "python",
   "pygments_lexer": "ipython3",
   "version": "3.10.17"
  }
 },
 "nbformat": 4,
 "nbformat_minor": 5
}
