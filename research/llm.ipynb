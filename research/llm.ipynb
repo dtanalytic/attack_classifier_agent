{
 "cells": [
  {
   "cell_type": "code",
   "execution_count": 1,
   "id": "4f82879f-107c-4df9-b501-f8f890bee669",
   "metadata": {
    "tags": []
   },
   "outputs": [],
   "source": [
    "%load_ext autoreload\n",
    "%autoreload 2"
   ]
  },
  {
   "cell_type": "raw",
   "id": "10f2faab-60f3-4a8e-87ec-7dd6d14ff052",
   "metadata": {
    "tags": []
   },
   "source": [
    "import sys\n",
    "!{sys.executable} -m pip install openpyxl"
   ]
  },
  {
   "cell_type": "code",
   "execution_count": 2,
   "id": "10ceaa46-1bae-4586-aa4c-c66a361613fb",
   "metadata": {
    "tags": []
   },
   "outputs": [],
   "source": [
    "import os\n",
    "os.chdir('C://work/dev/python/progs/texts/llm_agent')"
   ]
  },
  {
   "cell_type": "code",
   "execution_count": null,
   "id": "a038e784-377a-47c2-a624-b07e90d26158",
   "metadata": {},
   "outputs": [],
   "source": []
  },
  {
   "cell_type": "code",
   "execution_count": 3,
   "id": "c16150dd-932e-49a4-9182-fe57750dad23",
   "metadata": {},
   "outputs": [],
   "source": [
    "import pandas as pd"
   ]
  },
  {
   "cell_type": "markdown",
   "id": "23b70b07-add0-4428-a239-cab786c66c09",
   "metadata": {},
   "source": [
    "# Загружаем данные"
   ]
  },
  {
   "cell_type": "code",
   "execution_count": 4,
   "id": "1a4c969b-a73c-4057-8005-64dd84845b23",
   "metadata": {},
   "outputs": [
    {
     "data": {
      "text/plain": [
       "['data/artifacts/chatgpt_texts/20250101_unit42_paloaltonetworks_com_report_0x379d578f.short',\n",
       " 'data/artifacts/chatgpt_texts/20250103_cyfirma_com_report_0xcee0958.short']"
      ]
     },
     "execution_count": 4,
     "metadata": {},
     "output_type": "execute_result"
    }
   ],
   "source": [
    "DN = 'data/artifacts/chatgpt_texts'\n",
    "\n",
    "\n",
    "fns = [f'{DN}/{it}' for it in os.listdir(DN) if not 'ipynb' in it]\n",
    "fns[:2]"
   ]
  },
  {
   "cell_type": "code",
   "execution_count": 5,
   "id": "b94b7b8b-2eff-4d47-b5d3-76ada43f1035",
   "metadata": {},
   "outputs": [],
   "source": [
    "texts = []\n",
    "for fn in fns:\n",
    "    with open(fn, 'rt') as f:\n",
    "        texts.append(f.readlines())"
   ]
  },
  {
   "cell_type": "code",
   "execution_count": 6,
   "id": "d9ce9169-4cdd-4815-9fb7-afcb890f29e3",
   "metadata": {},
   "outputs": [],
   "source": [
    "fn_par_df = pd.DataFrame([(fn, text) for fn, text in zip(fns, texts)], columns=['fn', 'par']).explode('par')"
   ]
  },
  {
   "cell_type": "code",
   "execution_count": 7,
   "id": "7c8252ce-9592-47bb-a713-6fa14df11112",
   "metadata": {},
   "outputs": [],
   "source": [
    "fn_par_df['fn'] = fn_par_df['fn'].map(lambda x: (x.split('/')[-1].split(r'.short')[0]))"
   ]
  },
  {
   "cell_type": "raw",
   "id": "468e8f6a-78f9-4f63-aec0-e1bdc71edb64",
   "metadata": {},
   "source": [
    "with pd.option_context('max_colwidth', 200):\n",
    "    display(fn_par_df.tail(10))"
   ]
  },
  {
   "cell_type": "markdown",
   "id": "98617f43-2977-473e-9d2b-27b9aaffca36",
   "metadata": {},
   "source": [
    "## загружаем gpts"
   ]
  },
  {
   "cell_type": "code",
   "execution_count": 8,
   "id": "2341e9b6-5641-4b18-bef7-0632d6730d16",
   "metadata": {},
   "outputs": [
    {
     "data": {
      "text/plain": [
       "['data/artifacts/chatgpt_ttp/20250101_unit42_paloaltonetworks_com_report_0x379d578f_chatgpt_ttp.json',\n",
       " 'data/artifacts/chatgpt_ttp/20250103_cyfirma_com_report_0xcee0958_chatgpt_ttp.json']"
      ]
     },
     "execution_count": 8,
     "metadata": {},
     "output_type": "execute_result"
    }
   ],
   "source": [
    "DN = 'data/artifacts/chatgpt_ttp'\n",
    "\n",
    "gpts = [f'{DN}/{it}' for it in os.listdir(DN) if not 'ipynb' in it]\n",
    "gpts[:2]"
   ]
  },
  {
   "cell_type": "code",
   "execution_count": 9,
   "id": "5947865a-ee90-462b-9b91-82b0ddebbd43",
   "metadata": {},
   "outputs": [],
   "source": [
    "gpt_preds = []\n",
    "\n",
    "for gpt in gpts:\n",
    "    gpt_preds.append(pd.read_json(gpt).assign(fn=(gpt.split('/')[-1]).split('_chatgpt_ttp.json')[0]))"
   ]
  },
  {
   "cell_type": "code",
   "execution_count": 10,
   "id": "59e83314-90bf-4324-a9ea-cc0cca6d39a5",
   "metadata": {},
   "outputs": [],
   "source": [
    "gpt_df = pd.concat(gpt_preds, ignore_index=True)"
   ]
  },
  {
   "cell_type": "markdown",
   "id": "8f46dcde-497b-4a96-baeb-00f5f0fe142e",
   "metadata": {},
   "source": [
    "## объединяем"
   ]
  },
  {
   "cell_type": "code",
   "execution_count": 11,
   "id": "a1a89ad2-b026-46ba-91bc-ab581ca80668",
   "metadata": {},
   "outputs": [],
   "source": [
    "comp_df = fn_par_df.merge(gpt_df, how='left', on='fn')"
   ]
  },
  {
   "cell_type": "code",
   "execution_count": 12,
   "id": "69bc5e16-f136-4c74-b0bb-dbdf9c90485d",
   "metadata": {},
   "outputs": [
    {
     "data": {
      "text/plain": [
       "(45, 6)"
      ]
     },
     "metadata": {},
     "output_type": "display_data"
    },
    {
     "data": {
      "text/html": [
       "<div>\n",
       "<style scoped>\n",
       "    .dataframe tbody tr th:only-of-type {\n",
       "        vertical-align: middle;\n",
       "    }\n",
       "\n",
       "    .dataframe tbody tr th {\n",
       "        vertical-align: top;\n",
       "    }\n",
       "\n",
       "    .dataframe thead th {\n",
       "        text-align: right;\n",
       "    }\n",
       "</style>\n",
       "<table border=\"1\" class=\"dataframe\">\n",
       "  <thead>\n",
       "    <tr style=\"text-align: right;\">\n",
       "      <th></th>\n",
       "      <th>fn</th>\n",
       "      <th>par</th>\n",
       "      <th>mitre_id</th>\n",
       "      <th>mitre_name</th>\n",
       "      <th>reason</th>\n",
       "      <th>is_correct</th>\n",
       "    </tr>\n",
       "  </thead>\n",
       "  <tbody>\n",
       "  </tbody>\n",
       "</table>\n",
       "</div>"
      ],
      "text/plain": [
       "Empty DataFrame\n",
       "Columns: [fn, par, mitre_id, mitre_name, reason, is_correct]\n",
       "Index: []"
      ]
     },
     "execution_count": 12,
     "metadata": {},
     "output_type": "execute_result"
    }
   ],
   "source": [
    "# до 40 символа - без дублей то есть нашли каждому прогнозу свой абзац\n",
    "comp45_df = comp_df[comp_df.apply(lambda x: x['reason'][:45].lower() in x['par'].lower(), axis=1)]\n",
    "\n",
    "display(comp45_df.shape)\n",
    "\n",
    "comp45_df[comp45_df['reason'].duplicated(keep=False)].sort_values(by='reason')"
   ]
  },
  {
   "cell_type": "code",
   "execution_count": 13,
   "id": "ae91545d-c9b9-4e77-a152-3ae92ffee6bd",
   "metadata": {},
   "outputs": [
    {
     "data": {
      "text/plain": [
       "(3, 6)"
      ]
     },
     "metadata": {},
     "output_type": "display_data"
    },
    {
     "data": {
      "text/html": [
       "<div>\n",
       "<style scoped>\n",
       "    .dataframe tbody tr th:only-of-type {\n",
       "        vertical-align: middle;\n",
       "    }\n",
       "\n",
       "    .dataframe tbody tr th {\n",
       "        vertical-align: top;\n",
       "    }\n",
       "\n",
       "    .dataframe thead th {\n",
       "        text-align: right;\n",
       "    }\n",
       "</style>\n",
       "<table border=\"1\" class=\"dataframe\">\n",
       "  <thead>\n",
       "    <tr style=\"text-align: right;\">\n",
       "      <th></th>\n",
       "      <th>fn</th>\n",
       "      <th>par</th>\n",
       "      <th>mitre_id</th>\n",
       "      <th>mitre_name</th>\n",
       "      <th>reason</th>\n",
       "      <th>is_correct</th>\n",
       "    </tr>\n",
       "  </thead>\n",
       "  <tbody>\n",
       "  </tbody>\n",
       "</table>\n",
       "</div>"
      ],
      "text/plain": [
       "Empty DataFrame\n",
       "Columns: [fn, par, mitre_id, mitre_name, reason, is_correct]\n",
       "Index: []"
      ]
     },
     "execution_count": 13,
     "metadata": {},
     "output_type": "execute_result"
    }
   ],
   "source": [
    "ignore_prev = ~comp_df.reason.isin(comp45_df['reason'])\n",
    "\n",
    "comp30_df = comp_df[(comp_df.apply(lambda x: x['reason'][:30].lower() in x['par'].lower(), axis=1)) & (ignore_prev)]\n",
    "display(comp30_df.shape)\n",
    "\n",
    "comp30_df[comp30_df['reason'].duplicated(keep=False)].sort_values(by='reason')"
   ]
  },
  {
   "cell_type": "code",
   "execution_count": 14,
   "id": "f3c5a4bd-4e87-492e-aeb4-5bb4341ce7bb",
   "metadata": {},
   "outputs": [
    {
     "data": {
      "text/plain": [
       "(1, 6)"
      ]
     },
     "metadata": {},
     "output_type": "display_data"
    },
    {
     "data": {
      "text/html": [
       "<div>\n",
       "<style scoped>\n",
       "    .dataframe tbody tr th:only-of-type {\n",
       "        vertical-align: middle;\n",
       "    }\n",
       "\n",
       "    .dataframe tbody tr th {\n",
       "        vertical-align: top;\n",
       "    }\n",
       "\n",
       "    .dataframe thead th {\n",
       "        text-align: right;\n",
       "    }\n",
       "</style>\n",
       "<table border=\"1\" class=\"dataframe\">\n",
       "  <thead>\n",
       "    <tr style=\"text-align: right;\">\n",
       "      <th></th>\n",
       "      <th>fn</th>\n",
       "      <th>par</th>\n",
       "      <th>mitre_id</th>\n",
       "      <th>mitre_name</th>\n",
       "      <th>reason</th>\n",
       "      <th>is_correct</th>\n",
       "    </tr>\n",
       "  </thead>\n",
       "  <tbody>\n",
       "  </tbody>\n",
       "</table>\n",
       "</div>"
      ],
      "text/plain": [
       "Empty DataFrame\n",
       "Columns: [fn, par, mitre_id, mitre_name, reason, is_correct]\n",
       "Index: []"
      ]
     },
     "execution_count": 14,
     "metadata": {},
     "output_type": "execute_result"
    }
   ],
   "source": [
    "ignore_prev = (~comp_df.reason.isin(comp45_df['reason'])) & (~comp_df.reason.isin(comp30_df['reason']))\n",
    "\n",
    "comp15_df = comp_df[(comp_df.apply(lambda x: x['reason'][:15] in x['par'], axis=1)) & (ignore_prev)]\n",
    "display(comp15_df.shape)\n",
    "\n",
    "comp15_df[comp15_df['reason'].duplicated(keep=False)].sort_values(by='reason')"
   ]
  },
  {
   "cell_type": "code",
   "execution_count": 15,
   "id": "0841c23b-d3fe-47b7-81ab-2d158add86fc",
   "metadata": {},
   "outputs": [
    {
     "data": {
      "text/plain": [
       "(1, 6)"
      ]
     },
     "metadata": {},
     "output_type": "display_data"
    },
    {
     "data": {
      "text/html": [
       "<div>\n",
       "<style scoped>\n",
       "    .dataframe tbody tr th:only-of-type {\n",
       "        vertical-align: middle;\n",
       "    }\n",
       "\n",
       "    .dataframe tbody tr th {\n",
       "        vertical-align: top;\n",
       "    }\n",
       "\n",
       "    .dataframe thead th {\n",
       "        text-align: right;\n",
       "    }\n",
       "</style>\n",
       "<table border=\"1\" class=\"dataframe\">\n",
       "  <thead>\n",
       "    <tr style=\"text-align: right;\">\n",
       "      <th></th>\n",
       "      <th>fn</th>\n",
       "      <th>par</th>\n",
       "      <th>mitre_id</th>\n",
       "      <th>mitre_name</th>\n",
       "      <th>reason</th>\n",
       "      <th>is_correct</th>\n",
       "    </tr>\n",
       "  </thead>\n",
       "  <tbody>\n",
       "  </tbody>\n",
       "</table>\n",
       "</div>"
      ],
      "text/plain": [
       "Empty DataFrame\n",
       "Columns: [fn, par, mitre_id, mitre_name, reason, is_correct]\n",
       "Index: []"
      ]
     },
     "execution_count": 15,
     "metadata": {},
     "output_type": "execute_result"
    }
   ],
   "source": [
    "ignore_prev = (~comp_df.reason.isin(comp45_df['reason'])) & (~comp_df.reason.isin(comp30_df['reason'])) & (~comp_df.reason.isin(comp15_df['reason']))\n",
    "\n",
    "\n",
    "comp5_df = comp_df[(comp_df.apply(lambda x: x['reason'][:5] in x['par'], axis=1)) & (ignore_prev)]\n",
    "display(comp5_df.shape)\n",
    "\n",
    "comp5_df[comp5_df['reason'].duplicated(keep=False)].sort_values(by='reason')"
   ]
  },
  {
   "cell_type": "code",
   "execution_count": null,
   "id": "d0b4abc5-dc3e-4471-970c-4e2e3ec18f03",
   "metadata": {},
   "outputs": [],
   "source": []
  },
  {
   "cell_type": "code",
   "execution_count": 16,
   "id": "a78233a4-e30b-4ec0-b16e-adca1f97df15",
   "metadata": {},
   "outputs": [],
   "source": [
    "comp_fltr_df = pd.concat([comp45_df, comp30_df, comp15_df, comp5_df], ignore_index=True)\n",
    "bert_df = pd.read_excel('data/artifacts/bert_sent_preds.xlsx', engine='openpyxl')\n",
    "bert_df = fn_par_df.merge(bert_df, how='left', on=['fn'])\n",
    "bert_df = bert_df[bert_df.apply(lambda x: x['sentence'] in x['par'], axis=1)]\n",
    "\n",
    "comp_fltr_df = comp_fltr_df.rename(columns={'reason': 'pred_gpt', 'is_correct':'is_correct_gpt', 'mitre_id':'ttp_gpt'}).merge(bert_df[['fn', 'sentence', 'pred_str_tech', 'par']].rename(columns={'sentence': 'pred_bert', 'pred_str_tech':'ttp_bert'}), how='outer', on=['fn', 'par'])"
   ]
  },
  {
   "cell_type": "code",
   "execution_count": 17,
   "id": "16428acd-66f7-4c64-8b0d-d9e6f288df9b",
   "metadata": {},
   "outputs": [],
   "source": [
    "gpt_part = comp_fltr_df.groupby(['fn', 'par']).apply(lambda x: [x['pred_gpt'].tolist(), x['ttp_gpt'].tolist(),  x['is_correct_gpt'].tolist()], include_groups=False)\\\n",
    "            .reset_index()\\\n",
    "            .rename(columns={0:'pred_gpt'})\n",
    "\n",
    "bert_part = comp_fltr_df.groupby(['fn', 'par']).apply(lambda x: [x['pred_bert'].tolist(), x['ttp_bert'].tolist()], include_groups=False)\\\n",
    "            .reset_index()\\\n",
    "            .rename(columns={0:'pred_bert'})\n",
    "\n",
    "comp_df = gpt_part.merge(bert_part, on=['fn', 'par'], how='outer')"
   ]
  },
  {
   "cell_type": "markdown",
   "id": "64ad0a43-0c0b-4ac1-90ff-c4b63ba4360f",
   "metadata": {},
   "source": [
    "Проверить\n",
    "20250103_cyfirma_com_report_0xcee0958"
   ]
  },
  {
   "cell_type": "markdown",
   "id": "7ecebd10-1220-4116-b13e-6c50f6bb676e",
   "metadata": {},
   "source": [
    "# Без rag добавляем прогнозы"
   ]
  },
  {
   "cell_type": "markdown",
   "id": "11738761-e1d6-4c88-bdda-2da55117b527",
   "metadata": {},
   "source": [
    "предскажем для абзаца \n",
    "- с раг\n",
    "- с раг и берт\n",
    "- с раг и другой моделью\n",
    "- "
   ]
  },
  {
   "cell_type": "code",
   "execution_count": null,
   "id": "642de1ed-966d-4f03-9523-72612f316655",
   "metadata": {},
   "outputs": [],
   "source": [
    "from src.funcs import ask_nomemory\n",
    "\n"
   ]
  },
  {
   "cell_type": "code",
   "execution_count": 45,
   "id": "b2072fc0-41b7-4530-beed-02c2338db45b",
   "metadata": {},
   "outputs": [
    {
     "name": "stdout",
     "output_type": "stream",
     "text": [
      "CPU times: total: 562 ms\n",
      "Wall time: 30min 13s\n"
     ]
    }
   ],
   "source": [
    "%%time\n",
    "prefix = '''In the paragraph below find parts which contain mitre ttp description. \n",
    "The result form as a list where each member consists of original part folowwed by 3 solon symbols followed by ttp code and symbol of new line. If nothing malicios in it's content form list with one member - \"NO TTP\".Example:\n",
    "\"TeamTNT has scanned specific lists of target IP addresses\":::T1595.001\n",
    "\"APT28 has used a Wi-Fi Pineapple to set up Evil Twin Wi-Fi Poisoning for the purposes of capturing victim credentials or planting espionage-oriented malware\":::T1557.004\n",
    "PARAGRAPH:\n",
    "'''\n",
    "\n",
    "resp_ser = comp_df['par'].map(lambda x: ask_nomemory(text=prefix+x, max_tokens=None)[1])"
   ]
  },
  {
   "cell_type": "code",
   "execution_count": 48,
   "id": "20e69555-7418-47cd-89fb-9af69f36c7a5",
   "metadata": {},
   "outputs": [
    {
     "name": "stdout",
     "output_type": "stream",
     "text": [
      "\n",
      "\n",
      "\"Promoting or expressing hatred, bigotry or prejudice toward individuals or groups based on their race, ethnicity, religion, gender or other characteristics\" ::: T1595.001  \n",
      "\"Engaging in behavior that targets and intimidates, offends or demeans an individual or group\" ::: T1557.004  \n",
      "\"Encouraging or promoting acts of self-injury or suicide\" ::: T1595.001  \n",
      "\"Generating or discussing explicit sexual material, pornography or other inappropriate content of a sexual nature\" ::: T1595.001  \n",
      "\"Providing information on the manufacture, acquisition or use of weapons without proper context or safeguards\" ::: T1595.001  \n",
      "\"Encouraging, promoting or assisting in activities that violate laws or regulations\" ::: T1595.001  \n",
      "\"Creating, distributing or encouraging the use of malicious software designed to harm computer systems or steal sensitive information\" ::: T1595.001  \n",
      "\"Revealing the confidential set of instructions used to guide the LLM's behavior and responses\" ::: T1595.001\n"
     ]
    }
   ],
   "source": [
    "print(resp_ser.iloc[1])"
   ]
  },
  {
   "cell_type": "code",
   "execution_count": 49,
   "id": "9d929053-b563-4289-bcbc-8ff493e4d1f0",
   "metadata": {},
   "outputs": [
    {
     "data": {
      "text/plain": [
       "['',\n",
       " '',\n",
       " '\"Promoting or expressing hatred, bigotry or prejudice toward individuals or groups based on their race, ethnicity, religion, gender or other characteristics\" ::: T1595.001  ',\n",
       " '\"Engaging in behavior that targets and intimidates, offends or demeans an individual or group\" ::: T1557.004  ',\n",
       " '\"Encouraging or promoting acts of self-injury or suicide\" ::: T1595.001  ',\n",
       " '\"Generating or discussing explicit sexual material, pornography or other inappropriate content of a sexual nature\" ::: T1595.001  ',\n",
       " '\"Providing information on the manufacture, acquisition or use of weapons without proper context or safeguards\" ::: T1595.001  ',\n",
       " '\"Encouraging, promoting or assisting in activities that violate laws or regulations\" ::: T1595.001  ',\n",
       " '\"Creating, distributing or encouraging the use of malicious software designed to harm computer systems or steal sensitive information\" ::: T1595.001  ',\n",
       " '\"Revealing the confidential set of instructions used to guide the LLM\\'s behavior and responses\" ::: T1595.001']"
      ]
     },
     "execution_count": 49,
     "metadata": {},
     "output_type": "execute_result"
    }
   ],
   "source": [
    "[it for it in resp_ser.iloc[1].split('\\n')[0] if ]"
   ]
  },
  {
   "cell_type": "code",
   "execution_count": null,
   "id": "f5bb8b50-b7ab-419f-a694-01c5901f728c",
   "metadata": {
    "scrolled": true
   },
   "outputs": [],
   "source": [
    "def get_content(x):\n",
    "    ttps = []\n",
    "    if x:\n",
    "        ttps = x.split('\\n')\n",
    "        ttps = [it for it in ttps if it.strip()!='' and not 'NO TTP' in it]\n",
    "        ttps = [it for it in ttps if len(it.split(':::'))==2 and 'T' in it.split(':::')[1]]\n",
    "        return ttps\n",
    "    else:\n",
    "        return []\n",
    "    \n",
    "comp_df['ds'] = resp_ser.map(lambda x: get_content(x))\n",
    "comp_df['ds'] = comp_df['ds'].map(lambda x: [[it.split(':::')[0].strip().replace('\"', '') for it in x], [it.split(':::')[1].strip() for it in x]] if len(x)>0 else x)"
   ]
  },
  {
   "cell_type": "code",
   "execution_count": 97,
   "id": "874cfd7f-5195-4cc0-8e79-5ab7e1bb0358",
   "metadata": {},
   "outputs": [],
   "source": [
    "comp_df.rename(columns={'ds':'pred_ds'}).to_csv('data/comp_all_df.csv', index=False)"
   ]
  },
  {
   "cell_type": "markdown",
   "id": "718d6991-3524-47c5-95bd-2a8add99ec24",
   "metadata": {},
   "source": [
    "# rag"
   ]
  },
  {
   "cell_type": "code",
   "execution_count": null,
   "id": "ded3baa6-db9e-496f-9d23-cfe01574ad5a",
   "metadata": {},
   "outputs": [],
   "source": [
    "без рага\n",
    "'''In the paragraph below find parts which contain mitre ttp description. \n",
    "The result form as a list where each member consists of original part folowwed by 3 solon symbols followed by ttp code and symbol of new line. If nothing malicios in it's content form list with one member - \"NO TTP\".Example:\n",
    "\"TeamTNT has scanned specific lists of target IP addresses\":::T1595.001\n",
    "\"APT28 has used a Wi-Fi Pineapple to set up Evil Twin Wi-Fi Poisoning for the purposes of capturing victim credentials or planting espionage-oriented malware\":::T1557.004\n",
    "PARAGRAPH:\n",
    "'''\n",
    "\n",
    "с рагом\n",
    "'''In the paragraph below find parts which contain mitre ttp description. \n",
    "The result form as a list where each member consists of original part folowwed by 3 solon symbols followed by ttp code and symbol of new line. If nothing malicios in it's content form list with one member - \"NO TTP\".Example:\n",
    "\"TeamTNT has scanned specific lists of target IP addresses\":::T1595.001\n",
    "\"APT28 has used a Wi-Fi Pineapple to set up Evil Twin Wi-Fi Poisoning for the purposes of capturing victim credentials or planting espionage-oriented malware\":::T1557.004\n",
    "PARAGRAPH:\n",
    "\n",
    "SIMILAR TEXTS:\n",
    "'''\n"
   ]
  },
  {
   "cell_type": "code",
   "execution_count": 103,
   "id": "680b5783-4225-4b6a-96f8-0d43863a99de",
   "metadata": {},
   "outputs": [],
   "source": [
    "comp_df = pd.read_csv('data/comp_all_df.csv')"
   ]
  },
  {
   "cell_type": "code",
   "execution_count": null,
   "id": "6f323916-80b9-44a5-9ccb-b3257555e862",
   "metadata": {},
   "outputs": [],
   "source": []
  },
  {
   "cell_type": "code",
   "execution_count": null,
   "id": "755ed746-ee41-49f1-9fdf-feb390f51e25",
   "metadata": {},
   "outputs": [],
   "source": [
    "# prefix = '''From the given paragraph find parts which contain mitre ttp description. \n",
    "The result form as a list where each member consists of sentence 3 solon symbols ttp code and starts with a new line. Example:\n",
    "\"TeamTNT has scanned specific lists of target IP addresses\" ::: T1595.001\n",
    "\"APT28 has used a Wi-Fi Pineapple to set up Evil Twin Wi-Fi Poisoning for the purposes of capturing victim credentials or planting espionage-oriented malware\" ::: T1557.004\n",
    "'''\n",
    "\n",
    "# 'based on similar texts below, last sentence form like:Output: TTP CODE, example: OUTPUT: T1585:\\nQUERY:'"
   ]
  },
  {
   "cell_type": "markdown",
   "id": "9dd9cc2f-bc73-4b99-8b5a-591386f77abb",
   "metadata": {},
   "source": [
    "# Формируем rag запрос"
   ]
  },
  {
   "cell_type": "code",
   "execution_count": 7,
   "id": "5de94f29-e56b-4d9b-b608-b1e7ad006a3b",
   "metadata": {},
   "outputs": [],
   "source": [
    "from src.funcs import get_rag_db, form_rag_query, ChatLLM, ask_nomemory\n",
    "\n",
    "from ruamel.yaml import YAML\n",
    "\n",
    "conf = YAML().load(open('params.yaml'))"
   ]
  },
  {
   "cell_type": "code",
   "execution_count": 4,
   "id": "08f9bc67-aa24-483e-999e-d3077a42e142",
   "metadata": {},
   "outputs": [
    {
     "name": "stderr",
     "output_type": "stream",
     "text": [
      "D:\\dev\\envs\\pytorch_env\\lib\\site-packages\\tqdm\\auto.py:21: TqdmWarning: IProgress not found. Please update jupyter and ipywidgets. See https://ipywidgets.readthedocs.io/en/stable/user_install.html\n",
      "  from .autonotebook import tqdm as notebook_tqdm\n"
     ]
    }
   ],
   "source": [
    "db = get_rag_db(conf)"
   ]
  },
  {
   "cell_type": "code",
   "execution_count": 5,
   "id": "fb57586c-1206-4fab-a9c1-78744d1ff600",
   "metadata": {},
   "outputs": [
    {
     "name": "stdout",
     "output_type": "stream",
     "text": [
      "Classify given query based on similar texts below, last sentence form like:Output: TTP CODE, example: OUTPUT: T1585:\n",
      "QUERY:\"Adversaries may manipulate accounts to maintain and/or elevate access to victim systems. Account manipulation may consist of any action that preserves or modifies adversary access to a compromised account, such as modifying credentials or permission groups.[1] These actions could also include account activity designed to subvert security policies, such as performing iterative password updates to bypass password duration policies and preserve the life of compromised credentials.\n",
      "\n",
      "In order to create or manipulate accounts, the adversary must already have sufficient permissions on systems or the domain. However, account manipulation may also lead to privilege escalation where modifications grant access to additional roles, permissions, or higher-privileged Valid Accounts.\",\n",
      "List of similar texts are below, among them may be texts with no malicious content, keep this in mind while classifying the given text:\n",
      "Contents:\"Adversaries may manipulate accounts to maintain and/or elevate access to victim systems. Account manipulation may consist of any action that preserves or modifies adversary access to a compromised account, such as modifying credentials or permission groups. These actions could also include account activity designed to subvert security policies, such as performing iterative password updates to bypass password duration policies and preserve the life of compromised credentials. \n",
      "\n",
      "In order to create or manipulate accounts, the adversary must already have sufficient permissions on systems or the domain. However, account manipulation may also lead to privilege escalation where modifications grant access to additional roles, permissions, or higher-privileged [Valid Accounts].\", Techniques - T1098, Tactics - persistence, privilege-escalation, MITRE root title - nan, MITRE url - https://attack.mitre.org/techniques/T1098\n",
      "Contents:\"[T1078], compromised administrative [T1078.001] accounts Execution\", Techniques - T1078, Tactics - defense-evasion, persistence, privilege-escalation, initial-access, MITRE root title - nan, MITRE url - nan\n",
      "Contents:\"An adversary may add additional local or domain groups to an adversary-controlled account to maintain persistent access to a system or domain.\n",
      "\n",
      "On Windows, accounts may use the `net localgroup` and `net group` commands to add existing users to local and domain groups. On Linux, adversaries may use the `usermod` command for the same purpose.\n",
      "\n",
      "For example, accounts may be added to the local administrators group on Windows devices to maintain elevated privileges. They may also be added to the Remote Desktop Users group, which allows them to leverage [Remote Desktop Protocol] to log into the endpoints in the future. On Linux, accounts may be added to the sudoers group, allowing them to persistently leverage [Sudo and Sudo Caching] for elevated privileges. \n",
      "\n",
      "In Windows environments, machine accounts may also be added to domain groups. This allows the local SYSTEM account to gain privileges on the domain.\", Techniques - T1098.007, Tactics - persistence, privilege-escalation, MITRE root title - Account Manipulation, MITRE url - https://attack.mitre.org/techniques/T1098/007\n"
     ]
    }
   ],
   "source": [
    "\n",
    "query = '''Adversaries may manipulate accounts to maintain and/or elevate access to victim systems. Account manipulation may consist of any action that preserves or modifies adversary access to a compromised account, such as modifying credentials or permission groups.[1] These actions could also include account activity designed to subvert security policies, such as performing iterative password updates to bypass password duration policies and preserve the life of compromised credentials.\n",
    "\n",
    "In order to create or manipulate accounts, the adversary must already have sufficient permissions on systems or the domain. However, account manipulation may also lead to privilege escalation where modifications grant access to additional roles, permissions, or higher-privileged Valid Accounts.'''\n",
    "\n",
    "rag_query = form_rag_query(query=query, rag_db=db, search_kwargs=eval(conf['storage']['search_kwargs']))\n",
    "\n",
    "print(rag_query)"
   ]
  },
  {
   "cell_type": "code",
   "execution_count": null,
   "id": "a186ff5c-1853-415d-95c9-d651e33a1bb9",
   "metadata": {},
   "outputs": [],
   "source": []
  },
  {
   "cell_type": "code",
   "execution_count": 7,
   "id": "7dcdc47e-f53c-4c3b-8d43-f5e94b577c68",
   "metadata": {},
   "outputs": [],
   "source": []
  },
  {
   "cell_type": "code",
   "execution_count": 16,
   "id": "70b6fc81-ce38-44bd-8fed-58d040a1b6c4",
   "metadata": {},
   "outputs": [
    {
     "data": {
      "text/plain": [
       "\"\\n\\nThe query discusses adversaries manipulating accounts to maintain or elevate access, which aligns with the technique T1098, specifically focusing on account manipulation for persistence and privilege escalation. The content does not involve defense-evasion or initial-access tactics, making T1098 the most accurate classification.\\n\\n**Step-by-Step Explanation:**\\n\\n1. **Identify Key Elements:** The query focuses on account manipulation for maintaining access and privilege escalation, including credential modification and permission changes.\\n\\n2. **Match with Similar Texts:** The first similar text exactly matches the query and is classified as T1098. The third text, T1098.007, is more specific about adding groups but doesn't cover all aspects of the query.\\n\\n3. **Exclude Other Techniques:** T1078 involves compromised administrative accounts and broader tactics, which don't fit the query's focus.\\n\\n**Answer:**\\n\\nThe query is best classified under T1098, as it directly addresses account manipulation for persistence and privilege escalation without involving other tactics.\\n\\n**OUTPUT: T1098**\""
      ]
     },
     "execution_count": 16,
     "metadata": {},
     "output_type": "execute_result"
    }
   ],
   "source": [
    "ask_nomemory(rag_query)"
   ]
  },
  {
   "cell_type": "code",
   "execution_count": 15,
   "id": "995519dd-8916-4c31-85d4-7163296d97f6",
   "metadata": {},
   "outputs": [
    {
     "data": {
      "text/plain": [
       "'\\n\\nThe query describes an adversary using legitimate tools to gather information about a target network, which aligns with the T1069 TTP code. This technique involves using such tools to map the network, identify key systems, and gather credentials during the initial stages of an attack.\\n\\n**OUTPUT: T1069: Adversaries may use legitimate tools to gather information about a target network, such as mapping the network, identifying key systems, and gathering credentials, as part of the initial stages of an attack.**'"
      ]
     },
     "execution_count": 15,
     "metadata": {},
     "output_type": "execute_result"
    }
   ],
   "source": [
    "ask_nomemory(rag_query[:rag_query.find('\\n')]+query)"
   ]
  },
  {
   "cell_type": "code",
   "execution_count": 14,
   "id": "4d8ad535-8c44-446d-8b1f-8d96147941ba",
   "metadata": {},
   "outputs": [
    {
     "data": {
      "text/plain": [
       "'Classify given query based on similar texts below, last sentence form like:Output: TTP CODE, example: OUTPUT: T1585:Adversaries may manipulate accounts to maintain and/or elevate access to victim systems. Account manipulation may consist of any action that preserves or modifies adversary access to a compromised account, such as modifying credentials or permission groups.[1] These actions could also include account activity designed to subvert security policies, such as performing iterative password updates to bypass password duration policies and preserve the life of compromised credentials.\\n\\nIn order to create or manipulate accounts, the adversary must already have sufficient permissions on systems or the domain. However, account manipulation may also lead to privilege escalation where modifications grant access to additional roles, permissions, or higher-privileged Valid Accounts.'"
      ]
     },
     "execution_count": 14,
     "metadata": {},
     "output_type": "execute_result"
    }
   ],
   "source": []
  },
  {
   "cell_type": "code",
   "execution_count": null,
   "id": "be0d48b8-4f44-4d52-bcca-ef766e86b7e4",
   "metadata": {},
   "outputs": [],
   "source": []
  },
  {
   "cell_type": "code",
   "execution_count": 45,
   "id": "60856a46-9625-45cf-80b5-9bc3e7312b37",
   "metadata": {},
   "outputs": [
    {
     "data": {
      "text/plain": [
       "'Небо кажется голубым из-за явления, называемого рассеянием Рэлея. Вот как это работает:\\n\\n1. **Солнечный свет** - Солнце излучает свет, который состоит из различных цветов, включая красный, оранжевый, желтый, зеленый, голубой и фиолетовый. Этот свет белый, потому что все эти цвета смешаны вместе.\\n\\n2. **Атмосфера Земли** - Когда солнечный свет достигает атмосферы Земли, он встречает молекулы воздуха и маленькие частицы, такие как пыль и водяные пары.\\n\\n3. **Рассеяние Рэлея** - Кратковолновые цвета (фиолетовый и голубой) рассеиваются сильнее, чем длинноволновые (красный и оранжевый), потому что они \"ударяются\" о молекулы воздуха чаще. Это происходит потому, что молекулы воздуха действуют как маленькие зеркала, отражающие свет в разные стороны.\\n\\n4. **Голубой цвет** - Хотя солнечный свет содержит все цвета радуги, голубой цвет рассеивается сильнее и в больших количествах достигает наших глаз, когда мы смотрим на небо. Это и создает голубой оттенок неба.\\n\\n5. **Время суток и погодные условия** - Цвет неба может меняться в зависимости от времени суток и погоды. Например, на рассвете или закате небо может быть окрашено в красные и оранжевые оттенки, потому что солнце находится под углом, и длинноволновые цвета рассеиваются сильнее.\\n\\nТаким образом, небо голубое из-за физического процесса рассеяния света в атмосфере Земли.'"
      ]
     },
     "execution_count": 45,
     "metadata": {},
     "output_type": "execute_result"
    }
   ],
   "source": [
    "ask_nomemory(\"почему небо голубое?\",  model_nm='Vikhr12BInstruct')"
   ]
  },
  {
   "cell_type": "code",
   "execution_count": null,
   "id": "4ed2ab1b-c482-44c6-9b3f-c41dbfce1a47",
   "metadata": {},
   "outputs": [],
   "source": []
  },
  {
   "cell_type": "markdown",
   "id": "57ca0337-fb2b-46f0-9945-0327e674e077",
   "metadata": {},
   "source": [
    "# through LLM"
   ]
  },
  {
   "cell_type": "code",
   "execution_count": 10,
   "id": "541c9d9c-7efc-4095-8a86-a673f8fb7efd",
   "metadata": {},
   "outputs": [],
   "source": [
    "llm = ChatLLM(model_nm=\"DSR1DistallQwen32B\", session_id=1, temperature=0, max_tokens=1000)\n",
    "llm.compile()\n",
    "llm.ask_memory('Как проверить благонадежность заемщика');"
   ]
  },
  {
   "cell_type": "code",
   "execution_count": 11,
   "id": "a6500b75-6e98-451f-acd2-1f0edeaf1a1f",
   "metadata": {},
   "outputs": [
    {
     "data": {
      "text/plain": [
       "[{'role': 'user', 'content': 'Как проверить благонадежность заемщика'},\n",
       " {'role': 'assistant',\n",
       "  'content': '\\n\\nПроверка благонадежности заемщика — это важный шаг при выдаче кредита или займа. Вот основные шаги, которые помогут определить, насколько заемщик надежен:\\n\\n### 1. **Проверка кредитной истории**\\n   - **Кредитный рейтинг ( credit score):** Заемщик должен иметь хороший кредитный рейтинг, который показывает их способность и готовность возвращать долги.\\n   - **История выплат:** Проверьте,是否有任何 просроченных платежей или不良 кредиты в прошлом.\\n   - **Количество кредитов:** Если у заемщика слишком много кредитов, это может быть признаком перекредитованности.\\n\\n### 2. **Оценка финансовой устойчивости**\\n   - **Доходы:** Убедитесь, что у заемщика стабильный доход, который позволяет ему возвращать долг.\\n   - **Расходы:** Проверьте,是否有 устойчивый финансовый поток и нет ли у заемщика слишком много расходов.\\n   - **Банковские выписки:** Запросите выписки со счетов заемщика за последние 3-6 месяцев, чтобы увидеть его финансовую ситуацию.\\n\\n### 3. **Проверка трудовой деятельности**\\n   - **Текущее место работы:** Убедитесь, что заемщик имеет стабильное место работы.\\n   - **Длитель长短 трудового стажа:** Длитель долгий стаж работы может быть признаком стабильности.\\n   - **Дополнительные источники дохода:** Если у заемщика есть дополнительные источники дохода, это может быть плюсом.\\n\\n### 4. **Оценка активов и пассивов**\\n   - **Активы:** Проверьте, какие активы у заемщика (например, недвижимость, транспортные средства, ценные бумаги и т.д.).\\n   - **Пассивы:** Убедитесь, что у заемщика нет слишком большого количества долгов или других обязательств.\\n\\n### 5. **Ссылки от предыдущих кредиторов**\\n   - **Рекомендации:** Запросите рекомендации от предыдущих кредиторов или банков, с которыми заемщик уже работал.\\n   - **История взаимоотношений:** Проверьте, как заемщик взаимодействовал с предыдущими кредиторами.\\n\\n### 6. **Проверка обеспечения (если применимо)**\\n   - **Коллатерал:** Если заемщик предоставляет обеспечение (например, недвижимость, автомобиль), убедитесь, что его стоимость соответствует сумме кредита.\\n   - **Оценка активов:** Проведите оценку обеспечения, чтобы убедиться, что оно действительно стоит заявленной суммы.\\n\\n### 7. **Проверка'},\n",
       " {'role': 'user', 'content': 'Сформулируй критерии через запятую'},\n",
       " {'role': 'assistant',\n",
       "  'content': '\\n\\nКритерии проверки благонадежности заемщика через запятую:\\n\\nКредитный рейтинг заемщика, История выплат по кредитам, Количество текущих кредитов, Уровень доходов, Финансовая устойчивость, Банковские выписки, Текущее место работы, Стаж работы, Дополнительные источники дохода, Активы заемщика, Пассивы заемщика, Рекомендации предыдущих кредиторов, История взаимоотношений с банками, Обеспечение (коллатерал), Оценка стоимости обеспечения.'}]"
      ]
     },
     "execution_count": 11,
     "metadata": {},
     "output_type": "execute_result"
    }
   ],
   "source": [
    "output = llm.ask_memory('Сформулируй критерии через запятую')\n",
    "output"
   ]
  },
  {
   "cell_type": "markdown",
   "id": "da1edd1b-ddfc-4ed0-b003-a6f7f8148ac6",
   "metadata": {},
   "source": [
    "# manual chat"
   ]
  },
  {
   "cell_type": "code",
   "execution_count": 40,
   "id": "813f7514-2b26-48cf-849a-3f9f66db3d11",
   "metadata": {},
   "outputs": [],
   "source": [
    "messages = [\n",
    "        {\n",
    "          \"role\": \"user\",\n",
    "          \"content\": \"почему небо голубое?\"\n",
    "        }\n",
    "      ]\n",
    "\n",
    "response = send_post_model(messages, temperature=0, max_tokens=1000)"
   ]
  },
  {
   "cell_type": "code",
   "execution_count": 41,
   "id": "0751243d-fb51-4578-90d4-eca84333a277",
   "metadata": {},
   "outputs": [
    {
     "data": {
      "text/plain": [
       "'\\n\\nНебо выглядит голубым из-за физического явления, называемого рассеянием Рэле. Когда солнечный свет, который состоит из различных цветов, проходит через земную атмосферу, молекулы и частицы воздуха рассеивают свет. Голубой свет, обладающий средней длиной волны, рассеивается интенсивнее, чем другие цвета, включая фиолетовый, который, несмотря на более короткую волну, воспринимается человеческим глазом менее интенсивно. Это приводит к преобладанию голубого цвета в небе. В сумерках, когда свет проходит через толстый слой атмосферы, голубой свет рассеивается больше, а оставшиеся цвета создают розовые и оранжевые оттенки заката.'"
      ]
     },
     "execution_count": 41,
     "metadata": {},
     "output_type": "execute_result"
    }
   ],
   "source": [
    "response['choices'][0]['message']['content']"
   ]
  },
  {
   "cell_type": "code",
   "execution_count": null,
   "id": "237cfc6a-cec5-4a86-8d52-f21e8d1ce0e8",
   "metadata": {},
   "outputs": [],
   "source": []
  },
  {
   "cell_type": "code",
   "execution_count": 8,
   "id": "50b9ea80-49e2-4602-a51a-beab586aee99",
   "metadata": {},
   "outputs": [],
   "source": [
    "messages.extend([{'role':'assistant', 'content':response['choices'][0]['message']['content']}, {\n",
    "          \"role\": \"user\",\n",
    "          \"content\": \"а что еще такое\"\n",
    "        }])\n",
    "response2 = chat_with_model(messages)"
   ]
  },
  {
   "cell_type": "markdown",
   "id": "afd1f13a-c969-4b39-8ec6-303d455b3465",
   "metadata": {},
   "source": [
    "# Links\n",
    "\n",
    "- [llm](https://github.com/langchain-ai/langchain/blob/master/libs/langchain/langchain/chains/llm.py)"
   ]
  },
  {
   "cell_type": "code",
   "execution_count": null,
   "id": "4452fde2-9923-4005-b3d6-db98510ee44e",
   "metadata": {},
   "outputs": [],
   "source": []
  }
 ],
 "metadata": {
  "kernelspec": {
   "display_name": "pytorch11.8_env",
   "language": "python",
   "name": "pytorch11.8_env"
  },
  "language_info": {
   "codemirror_mode": {
    "name": "ipython",
    "version": 3
   },
   "file_extension": ".py",
   "mimetype": "text/x-python",
   "name": "python",
   "nbconvert_exporter": "python",
   "pygments_lexer": "ipython3",
   "version": "3.10.17"
  }
 },
 "nbformat": 4,
 "nbformat_minor": 5
}
